{
 "cells": [
  {
   "cell_type": "code",
   "execution_count": 1,
   "metadata": {},
   "outputs": [
    {
     "data": {
      "text/plain": [
       "environ{'TERM_PROGRAM': 'Apple_Terminal',\n",
       "        'SHELL': '/bin/bash',\n",
       "        'TERM': 'xterm-color',\n",
       "        'TMPDIR': '/var/folders/yn/4nqjk5653bdfsjz1h6yp1wsh0000gn/T/',\n",
       "        'CONDA_SHLVL': '2',\n",
       "        'Apple_PubSub_Socket_Render': '/private/tmp/com.apple.launchd.qOJzBLOtG6/Render',\n",
       "        'CONDA_PROMPT_MODIFIER': '(spotify_app) ',\n",
       "        'TERM_PROGRAM_VERSION': '400',\n",
       "        'OLDPWD': '/Users/Binderiya/personalwork/webdev',\n",
       "        'TERM_SESSION_ID': '0F955DD2-EBF3-4FE9-A5EC-0EB57E430D5C',\n",
       "        'USER': 'Binderiya',\n",
       "        'CONDA_EXE': '/Users/Binderiya/miniconda3/bin/conda',\n",
       "        'SSH_AUTH_SOCK': '/private/tmp/com.apple.launchd.mAr29SUCmP/Listeners',\n",
       "        '_CE_CONDA': '',\n",
       "        'CONDA_PREFIX_1': '/Users/Binderiya/miniconda3',\n",
       "        'PATH': '/Users/Binderiya/miniconda3/envs/spotify_app/bin:/Users/Binderiya/miniconda3/condabin:/Users/Binderiya/personalwork/Kaggle/fastai/exec -l /bin/bash/google-cloud-sdk/bin:/opt/local/bin:/opt/local/sbin:/Library/Frameworks/Python.framework/Versions/3.5/bin:/Library/Frameworks/Python.framework/Versions/3.4/bin:/usr/bin:/bin:/usr/sbin:/sbin:/usr/local/bin:/opt/X11/bin',\n",
       "        'CONDA_PREFIX': '/Users/Binderiya/miniconda3/envs/spotify_app',\n",
       "        'PWD': '/Users/Binderiya/personalwork/webdev/spotify_app',\n",
       "        'XPC_FLAGS': '0x0',\n",
       "        '_CE_M': '',\n",
       "        'XPC_SERVICE_NAME': '0',\n",
       "        'SHLVL': '1',\n",
       "        'HOME': '/Users/Binderiya',\n",
       "        'CONDA_PYTHON_EXE': '/Users/Binderiya/miniconda3/bin/python',\n",
       "        'LOGNAME': 'Binderiya',\n",
       "        'LC_CTYPE': 'UTF-8',\n",
       "        'CONDA_DEFAULT_ENV': 'spotify_app',\n",
       "        'DISPLAY': '/private/tmp/com.apple.launchd.uzmnPj4clC/org.macosforge.xquartz:0',\n",
       "        '_': '/Users/Binderiya/miniconda3/envs/spotify_app/bin/jupyter',\n",
       "        'KERNEL_LAUNCH_TIMEOUT': '40',\n",
       "        'JPY_PARENT_PID': '14793',\n",
       "        'CLICOLOR': '1',\n",
       "        'PAGER': 'cat',\n",
       "        'GIT_PAGER': 'cat',\n",
       "        'MPLBACKEND': 'module://ipykernel.pylab.backend_inline'}"
      ]
     },
     "execution_count": 1,
     "metadata": {},
     "output_type": "execute_result"
    }
   ],
   "source": [
    "import os\n",
    "os.environ"
   ]
  }
 ],
 "metadata": {
  "kernelspec": {
   "display_name": "Python 3",
   "language": "python",
   "name": "python3"
  },
  "language_info": {
   "codemirror_mode": {
    "name": "ipython",
    "version": 3
   },
   "file_extension": ".py",
   "mimetype": "text/x-python",
   "name": "python",
   "nbconvert_exporter": "python",
   "pygments_lexer": "ipython3",
   "version": "3.6.9"
  }
 },
 "nbformat": 4,
 "nbformat_minor": 2
}
